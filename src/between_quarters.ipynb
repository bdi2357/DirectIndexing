{
 "cells": [
  {
   "cell_type": "code",
   "execution_count": 1,
   "metadata": {},
   "outputs": [],
   "source": [
    "import os,sys,re\n",
    "import numpy as np\n",
    "import pandas as pd"
   ]
  },
  {
   "cell_type": "code",
   "execution_count": 4,
   "metadata": {},
   "outputs": [],
   "source": [
    "def create_ret_dict(PriceVolume_dr,universe,close_col):\n",
    "    #close_col = \"Adjusted_close\"\n",
    "    tickers_pv = {t: pd.read_csv(os.path.join(PriceVolume_dr, t + \".csv\")) for t in universe}\n",
    "    bad_tickers = []\n",
    "    for k in tickers_pv.keys():\n",
    "        try:\n",
    "            if  tickers_pv[k][close_col].isnull().values.any():\n",
    "                bad_tickers.append(k)\n",
    "            tickers_pv[k][close_col] = tickers_pv[k][close_col].fillna(0.00)\n",
    "            tickers_pv[k][\"return\"] = getattr(tickers_pv[k][close_col], \"pct_change\")()\n",
    "            tickers_pv[k] = tickers_pv[k].set_index(\"Date\")\n",
    "        except Exception as e:\n",
    "            print(e, \" \", k)\n",
    "            print(\"in create_ret_dict\")\n",
    "            bad_tickers.append(k)\n",
    "    print(\"bad \", bad_tickers)\n",
    "    return tickers_pv"
   ]
  },
  {
   "cell_type": "code",
   "execution_count": 7,
   "metadata": {},
   "outputs": [],
   "source": [
    "def between_quarters(filename,index_data_path):\n",
    "    df1 = pd.read_csv(filename)\n",
    "    r1 = os.path.basename(filename).split(\".\")[0]\n",
    "    dt1 = re.findall('20[0-9]+',r1)[0]\n",
    "    start_date = dt1[:4]+\"-\"+dt1[4:6]+\"-\"+dt1[6:8]\n",
    "    universe = list(df1[\"Ticker\"])[:-2]\n",
    "    universe = [x for x in universe if x not in [ \"HFC\",\"BLKFDS\"]]\n",
    "    close_col = \"Adjusted_close\"#\"Close\"\n",
    "    PriceVolume_dr = os.path.join(\"..\",\"data\",\"PriceVolume\")\n",
    "    ret_d = create_ret_dict(PriceVolume_dr,universe,close_col)\n",
    "    d1 = df1.set_index(\"Ticker\")[\"Weight (%)\"].to_dict()\n",
    "    d11 = {x:d1[x] for x in d1.keys() if x not in ['WCG','ESH0','ESZ9','ESU9','XTSLA','ESM9','ESH9','ESZ8','USD','HFC','SIG','PDCO', 'UAA', 'UA', 'NWS','ESU2','ESU8',\"ESH8\",\"UBFUT\",\"BLKFDS\"]}\n",
    "    nrmlz = 1./sum(d11.values())\n",
    "    d11 = {x:d11[x]*nrmlz for x in d11.keys()}\n",
    "    start_d = start_date\n",
    "    if int(start_d.split(\"-\")[1]) < 12:\n",
    "        if int(start_d.split(\"-\")[1]) < 9:\n",
    "            end_d = start_d[:4]+\"-\"+\"0\"+str(int(start_d.split(\"-\")[1])+3)+\"-\"+start_d[-2:]\n",
    "        else:\n",
    "            end_d = start_d[:4]+\"-12-\"+start_d[-2:]\n",
    "    else:\n",
    "        end_d = str(int(start_d.split(\"-\")[0])+1) + \"-03-\"+start_d[-2:]\n",
    "        \n",
    "    #end_d = \"2021-06-22\"\n",
    "    target_index = pd.read_csv(index_data_path)\n",
    "    d12 = {x:d11[x] for x in d11.keys() if x in ret_d.keys() and ret_d[x][start_d:].shape[0]>0}\n",
    "    nrmlz2 = 1./(sum(d12.values()))\n",
    "    print(sum(d12.values()))\n",
    "    d12 = {x:nrmlz2*d12[x] for x in d12.keys()}\n",
    "    print(nrmlz2)\n",
    "    d12 = {x:d11[x] for x in d11.keys() if x in ret_d.keys() and ret_d[x][start_d:].shape[0]>0}\n",
    "    nrmlz2 = 1./(sum(d12.values()))\n",
    "    print(sum(d12.values()))\n",
    "    d12 = {x:nrmlz2*d12[x] for x in d12.keys()}\n",
    "    print(nrmlz2)\n",
    "    A11 = {x: d12[x] * (ret_d[x][\"return\"][start_d:end_d].fillna(0.0)+1.).cumprod() for x in list(d12.keys())[:]  }\n",
    "    index_df =  pd.read_csv(index_data_path)\n",
    "    index_df = index_df.set_index(\"Date\")\n",
    "    index_df[\"return\"] = index_df[\"Adjusted_close\"].pct_change().fillna(0.0)\n",
    "    return pd.DataFrame(A11).fillna(0.0).sum(axis=1),(index_df[\"return\"][start_d:end_d]+1.).cumprod()\n"
   ]
  },
  {
   "cell_type": "code",
   "execution_count": 8,
   "metadata": {},
   "outputs": [
    {
     "name": "stdout",
     "output_type": "stream",
     "text": [
      "'Adjusted_close'   XTSLA\n",
      "in create_ret_dict\n",
      "bad  ['XTSLA']\n",
      "0.9947853991175294\n",
      "1.0052419354838706\n",
      "0.9947853991175294\n",
      "1.0052419354838706\n",
      "CPU times: user 10.2 s, sys: 2.1 s, total: 12.3 s\n",
      "Wall time: 16.7 s\n"
     ]
    }
   ],
   "source": [
    "%%time\n",
    "filename = os.path.join(\"..\",\"data\",\"holdings\",\"IVV\",\"IVV_holdings_20190622_f.csv\")\n",
    "index_data_path = os.path.join(\"..\",\"data\",\"index_data\",\"IVV.csv\")\n",
    "dfx1,dfx2 = between_quarters(filename,index_data_path)"
   ]
  },
  {
   "cell_type": "code",
   "execution_count": 9,
   "metadata": {},
   "outputs": [
    {
     "data": {
      "text/plain": [
       "Date\n",
       "2019-09-16    1.017597\n",
       "2019-09-17    1.020182\n",
       "2019-09-18    1.020557\n",
       "2019-09-19    1.020541\n",
       "2019-09-20    1.015616\n",
       "dtype: float64"
      ]
     },
     "execution_count": 9,
     "metadata": {},
     "output_type": "execute_result"
    }
   ],
   "source": [
    "dfx1.tail()"
   ]
  },
  {
   "cell_type": "code",
   "execution_count": 10,
   "metadata": {},
   "outputs": [
    {
     "data": {
      "text/plain": [
       "Date\n",
       "2019-09-16    1.021687\n",
       "2019-09-17    1.024157\n",
       "2019-09-18    1.024901\n",
       "2019-09-19    1.024766\n",
       "2019-09-20    1.019116\n",
       "Name: return, dtype: float64"
      ]
     },
     "execution_count": 10,
     "metadata": {},
     "output_type": "execute_result"
    }
   ],
   "source": [
    "dfx2.tail()"
   ]
  },
  {
   "cell_type": "code",
   "execution_count": null,
   "metadata": {},
   "outputs": [],
   "source": []
  }
 ],
 "metadata": {
  "kernelspec": {
   "display_name": "Python 3",
   "language": "python",
   "name": "python3"
  },
  "language_info": {
   "codemirror_mode": {
    "name": "ipython",
    "version": 3
   },
   "file_extension": ".py",
   "mimetype": "text/x-python",
   "name": "python",
   "nbconvert_exporter": "python",
   "pygments_lexer": "ipython3",
   "version": "3.7.6"
  }
 },
 "nbformat": 4,
 "nbformat_minor": 4
}
